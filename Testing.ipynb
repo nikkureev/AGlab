{
 "cells": [
  {
   "cell_type": "code",
   "execution_count": 160,
   "metadata": {},
   "outputs": [
    {
     "name": "stdout",
     "output_type": "stream",
     "text": [
      "00120012120121112001020100211112001200111101111102011001001211110011000111011111100101010001111100010010010111010101100000100101\n"
     ]
    }
   ],
   "source": [
    "import re\n",
    "seq = 'AGCTAGCTTTTGATCGATC'\n",
    "\n",
    "vector = ''\n",
    "for n in range(2, 10):\n",
    "    for let1 in ['A', 'C', 'G', 'T']:\n",
    "        for let2 in ['A', 'C', 'G', 'T']:\n",
    "            st = '[' + let1 + ']\\w{' + str(n) + '}[' + let2 + ']'\n",
    "            rep = re.findall(st, seq)\n",
    "            vector += str(len(rep))\n",
    "print(vector)"
   ]
  },
  {
   "cell_type": "code",
   "execution_count": 299,
   "metadata": {},
   "outputs": [],
   "source": [
    "import pandas as pd\n",
    "import numpy as np\n",
    "import seaborn as sns\n",
    "import random\n",
    "from sklearn.linear_model import LogisticRegression\n",
    "from sklearn.tree import DecisionTreeClassifier\n",
    "from sklearn.model_selection import GridSearchCV\n",
    "from sklearn.metrics import roc_curve\n",
    "from sklearn.model_selection import train_test_split\n",
    "from sklearn.preprocessing import StandardScaler\n",
    "from sklearn.metrics import confusion_matrix\n",
    "from sklearn.metrics import accuracy_score\n",
    "from sklearn.metrics import roc_curve\n",
    "from sklearn.metrics import auc\n",
    "from sklearn.metrics import f1_score\n",
    "from sklearn.metrics import precision_score\n",
    "from sklearn.metrics import recall_score\n",
    "import matplotlib.pyplot as plt"
   ]
  },
  {
   "cell_type": "code",
   "execution_count": 935,
   "metadata": {},
   "outputs": [],
   "source": [
    "data = pd.read_csv('/home/nkureev/Features.csv', header=None)"
   ]
  },
  {
   "cell_type": "code",
   "execution_count": 936,
   "metadata": {},
   "outputs": [
    {
     "data": {
      "text/html": [
       "<div>\n",
       "<style scoped>\n",
       "    .dataframe tbody tr th:only-of-type {\n",
       "        vertical-align: middle;\n",
       "    }\n",
       "\n",
       "    .dataframe tbody tr th {\n",
       "        vertical-align: top;\n",
       "    }\n",
       "\n",
       "    .dataframe thead th {\n",
       "        text-align: right;\n",
       "    }\n",
       "</style>\n",
       "<table border=\"1\" class=\"dataframe\">\n",
       "  <thead>\n",
       "    <tr style=\"text-align: right;\">\n",
       "      <th></th>\n",
       "      <th>0</th>\n",
       "      <th>1</th>\n",
       "      <th>2</th>\n",
       "      <th>3</th>\n",
       "      <th>4</th>\n",
       "      <th>5</th>\n",
       "      <th>6</th>\n",
       "      <th>7</th>\n",
       "      <th>8</th>\n",
       "      <th>9</th>\n",
       "      <th>...</th>\n",
       "      <th>18</th>\n",
       "      <th>19</th>\n",
       "      <th>20</th>\n",
       "      <th>21</th>\n",
       "      <th>22</th>\n",
       "      <th>23</th>\n",
       "      <th>24</th>\n",
       "      <th>25</th>\n",
       "      <th>26</th>\n",
       "      <th>27</th>\n",
       "    </tr>\n",
       "  </thead>\n",
       "  <tbody>\n",
       "    <tr>\n",
       "      <th>0</th>\n",
       "      <td>30</td>\n",
       "      <td>2</td>\n",
       "      <td>0</td>\n",
       "      <td>1</td>\n",
       "      <td>2</td>\n",
       "      <td>1</td>\n",
       "      <td>0</td>\n",
       "      <td>0</td>\n",
       "      <td>4</td>\n",
       "      <td>0</td>\n",
       "      <td>...</td>\n",
       "      <td>1</td>\n",
       "      <td>4</td>\n",
       "      <td>0</td>\n",
       "      <td>1</td>\n",
       "      <td>0</td>\n",
       "      <td>0</td>\n",
       "      <td>4</td>\n",
       "      <td>4</td>\n",
       "      <td>-0.145</td>\n",
       "      <td>1</td>\n",
       "    </tr>\n",
       "    <tr>\n",
       "      <th>1</th>\n",
       "      <td>33</td>\n",
       "      <td>3</td>\n",
       "      <td>0</td>\n",
       "      <td>1</td>\n",
       "      <td>2</td>\n",
       "      <td>1</td>\n",
       "      <td>1</td>\n",
       "      <td>0</td>\n",
       "      <td>4</td>\n",
       "      <td>1</td>\n",
       "      <td>...</td>\n",
       "      <td>1</td>\n",
       "      <td>4</td>\n",
       "      <td>0</td>\n",
       "      <td>1</td>\n",
       "      <td>1</td>\n",
       "      <td>6</td>\n",
       "      <td>5</td>\n",
       "      <td>0</td>\n",
       "      <td>0.865</td>\n",
       "      <td>1</td>\n",
       "    </tr>\n",
       "    <tr>\n",
       "      <th>2</th>\n",
       "      <td>30</td>\n",
       "      <td>2</td>\n",
       "      <td>0</td>\n",
       "      <td>0</td>\n",
       "      <td>3</td>\n",
       "      <td>0</td>\n",
       "      <td>0</td>\n",
       "      <td>0</td>\n",
       "      <td>2</td>\n",
       "      <td>1</td>\n",
       "      <td>...</td>\n",
       "      <td>1</td>\n",
       "      <td>1</td>\n",
       "      <td>0</td>\n",
       "      <td>0</td>\n",
       "      <td>0</td>\n",
       "      <td>5</td>\n",
       "      <td>5</td>\n",
       "      <td>0</td>\n",
       "      <td>-0.072</td>\n",
       "      <td>1</td>\n",
       "    </tr>\n",
       "    <tr>\n",
       "      <th>3</th>\n",
       "      <td>36</td>\n",
       "      <td>4</td>\n",
       "      <td>0</td>\n",
       "      <td>0</td>\n",
       "      <td>2</td>\n",
       "      <td>0</td>\n",
       "      <td>0</td>\n",
       "      <td>0</td>\n",
       "      <td>5</td>\n",
       "      <td>1</td>\n",
       "      <td>...</td>\n",
       "      <td>1</td>\n",
       "      <td>1</td>\n",
       "      <td>1</td>\n",
       "      <td>0</td>\n",
       "      <td>0</td>\n",
       "      <td>5</td>\n",
       "      <td>4</td>\n",
       "      <td>4</td>\n",
       "      <td>-0.370</td>\n",
       "      <td>1</td>\n",
       "    </tr>\n",
       "    <tr>\n",
       "      <th>4</th>\n",
       "      <td>36</td>\n",
       "      <td>5</td>\n",
       "      <td>1</td>\n",
       "      <td>0</td>\n",
       "      <td>0</td>\n",
       "      <td>2</td>\n",
       "      <td>0</td>\n",
       "      <td>0</td>\n",
       "      <td>1</td>\n",
       "      <td>1</td>\n",
       "      <td>...</td>\n",
       "      <td>1</td>\n",
       "      <td>0</td>\n",
       "      <td>0</td>\n",
       "      <td>0</td>\n",
       "      <td>0</td>\n",
       "      <td>0</td>\n",
       "      <td>0</td>\n",
       "      <td>0</td>\n",
       "      <td>-0.704</td>\n",
       "      <td>1</td>\n",
       "    </tr>\n",
       "  </tbody>\n",
       "</table>\n",
       "<p>5 rows × 28 columns</p>\n",
       "</div>"
      ],
      "text/plain": [
       "   0   1   2   3   4   5   6   7   8   9   ...  18  19  20  21  22  23  24  \\\n",
       "0  30   2   0   1   2   1   0   0   4   0  ...   1   4   0   1   0   0   4   \n",
       "1  33   3   0   1   2   1   1   0   4   1  ...   1   4   0   1   1   6   5   \n",
       "2  30   2   0   0   3   0   0   0   2   1  ...   1   1   0   0   0   5   5   \n",
       "3  36   4   0   0   2   0   0   0   5   1  ...   1   1   1   0   0   5   4   \n",
       "4  36   5   1   0   0   2   0   0   1   1  ...   1   0   0   0   0   0   0   \n",
       "\n",
       "   25     26  27  \n",
       "0   4 -0.145   1  \n",
       "1   0  0.865   1  \n",
       "2   0 -0.072   1  \n",
       "3   4 -0.370   1  \n",
       "4   0 -0.704   1  \n",
       "\n",
       "[5 rows x 28 columns]"
      ]
     },
     "execution_count": 936,
     "metadata": {},
     "output_type": "execute_result"
    }
   ],
   "source": [
    "data.head()"
   ]
  },
  {
   "cell_type": "code",
   "execution_count": 928,
   "metadata": {},
   "outputs": [],
   "source": [
    "x = data.iloc[:,:-1]\n",
    "y = data.iloc[:,-1]"
   ]
  },
  {
   "cell_type": "code",
   "execution_count": 934,
   "metadata": {},
   "outputs": [
    {
     "ename": "AttributeError",
     "evalue": "'numpy.ndarray' object has no attribute 'head'",
     "output_type": "error",
     "traceback": [
      "\u001b[0;31m---------------------------------------------------------------------------\u001b[0m",
      "\u001b[0;31mAttributeError\u001b[0m                            Traceback (most recent call last)",
      "\u001b[0;32m<ipython-input-934-830ed5e65d76>\u001b[0m in \u001b[0;36m<module>\u001b[0;34m\u001b[0m\n\u001b[0;32m----> 1\u001b[0;31m \u001b[0mx\u001b[0m\u001b[0;34m.\u001b[0m\u001b[0mhead\u001b[0m\u001b[0;34m(\u001b[0m\u001b[0;34m)\u001b[0m\u001b[0;34m\u001b[0m\u001b[0;34m\u001b[0m\u001b[0m\n\u001b[0m",
      "\u001b[0;31mAttributeError\u001b[0m: 'numpy.ndarray' object has no attribute 'head'"
     ]
    }
   ],
   "source": [
    "x.head()"
   ]
  },
  {
   "cell_type": "code",
   "execution_count": 911,
   "metadata": {},
   "outputs": [],
   "source": [
    "xtrain, xtest, ytrain, ytest = train_test_split(x, y, test_size = 0.3)"
   ]
  },
  {
   "cell_type": "code",
   "execution_count": 287,
   "metadata": {},
   "outputs": [],
   "source": [
    "sc_x = StandardScaler()\n",
    "xtrain = sc_x.fit_transform(xtrain) \n",
    "xtest = sc_x.transform(xtest)"
   ]
  },
  {
   "cell_type": "code",
   "execution_count": 912,
   "metadata": {},
   "outputs": [
    {
     "data": {
      "text/html": [
       "<div>\n",
       "<style scoped>\n",
       "    .dataframe tbody tr th:only-of-type {\n",
       "        vertical-align: middle;\n",
       "    }\n",
       "\n",
       "    .dataframe tbody tr th {\n",
       "        vertical-align: top;\n",
       "    }\n",
       "\n",
       "    .dataframe thead th {\n",
       "        text-align: right;\n",
       "    }\n",
       "</style>\n",
       "<table border=\"1\" class=\"dataframe\">\n",
       "  <thead>\n",
       "    <tr style=\"text-align: right;\">\n",
       "      <th></th>\n",
       "      <th>features</th>\n",
       "      <th>feature importance</th>\n",
       "    </tr>\n",
       "  </thead>\n",
       "  <tbody>\n",
       "    <tr>\n",
       "      <th>17</th>\n",
       "      <td>17</td>\n",
       "      <td>0.461685</td>\n",
       "    </tr>\n",
       "    <tr>\n",
       "      <th>0</th>\n",
       "      <td>0</td>\n",
       "      <td>0.138785</td>\n",
       "    </tr>\n",
       "    <tr>\n",
       "      <th>1</th>\n",
       "      <td>1</td>\n",
       "      <td>0.075364</td>\n",
       "    </tr>\n",
       "    <tr>\n",
       "      <th>23</th>\n",
       "      <td>23</td>\n",
       "      <td>0.055533</td>\n",
       "    </tr>\n",
       "    <tr>\n",
       "      <th>24</th>\n",
       "      <td>24</td>\n",
       "      <td>0.039555</td>\n",
       "    </tr>\n",
       "    <tr>\n",
       "      <th>25</th>\n",
       "      <td>25</td>\n",
       "      <td>0.033652</td>\n",
       "    </tr>\n",
       "    <tr>\n",
       "      <th>9</th>\n",
       "      <td>9</td>\n",
       "      <td>0.031259</td>\n",
       "    </tr>\n",
       "    <tr>\n",
       "      <th>7</th>\n",
       "      <td>7</td>\n",
       "      <td>0.027609</td>\n",
       "    </tr>\n",
       "    <tr>\n",
       "      <th>4</th>\n",
       "      <td>4</td>\n",
       "      <td>0.021487</td>\n",
       "    </tr>\n",
       "    <tr>\n",
       "      <th>19</th>\n",
       "      <td>19</td>\n",
       "      <td>0.018140</td>\n",
       "    </tr>\n",
       "    <tr>\n",
       "      <th>13</th>\n",
       "      <td>13</td>\n",
       "      <td>0.017806</td>\n",
       "    </tr>\n",
       "    <tr>\n",
       "      <th>10</th>\n",
       "      <td>10</td>\n",
       "      <td>0.016534</td>\n",
       "    </tr>\n",
       "    <tr>\n",
       "      <th>26</th>\n",
       "      <td>26</td>\n",
       "      <td>0.010401</td>\n",
       "    </tr>\n",
       "    <tr>\n",
       "      <th>15</th>\n",
       "      <td>15</td>\n",
       "      <td>0.009698</td>\n",
       "    </tr>\n",
       "    <tr>\n",
       "      <th>21</th>\n",
       "      <td>21</td>\n",
       "      <td>0.008895</td>\n",
       "    </tr>\n",
       "    <tr>\n",
       "      <th>8</th>\n",
       "      <td>8</td>\n",
       "      <td>0.008222</td>\n",
       "    </tr>\n",
       "    <tr>\n",
       "      <th>3</th>\n",
       "      <td>3</td>\n",
       "      <td>0.007156</td>\n",
       "    </tr>\n",
       "    <tr>\n",
       "      <th>20</th>\n",
       "      <td>20</td>\n",
       "      <td>0.005808</td>\n",
       "    </tr>\n",
       "    <tr>\n",
       "      <th>2</th>\n",
       "      <td>2</td>\n",
       "      <td>0.004937</td>\n",
       "    </tr>\n",
       "    <tr>\n",
       "      <th>14</th>\n",
       "      <td>14</td>\n",
       "      <td>0.003791</td>\n",
       "    </tr>\n",
       "  </tbody>\n",
       "</table>\n",
       "</div>"
      ],
      "text/plain": [
       "    features  feature importance\n",
       "17        17            0.461685\n",
       "0          0            0.138785\n",
       "1          1            0.075364\n",
       "23        23            0.055533\n",
       "24        24            0.039555\n",
       "25        25            0.033652\n",
       "9          9            0.031259\n",
       "7          7            0.027609\n",
       "4          4            0.021487\n",
       "19        19            0.018140\n",
       "13        13            0.017806\n",
       "10        10            0.016534\n",
       "26        26            0.010401\n",
       "15        15            0.009698\n",
       "21        21            0.008895\n",
       "8          8            0.008222\n",
       "3          3            0.007156\n",
       "20        20            0.005808\n",
       "2          2            0.004937\n",
       "14        14            0.003791"
      ]
     },
     "execution_count": 912,
     "metadata": {},
     "output_type": "execute_result"
    }
   ],
   "source": [
    "dt = DecisionTreeClassifier(criterion='entropy')\n",
    "parameters = {'max_depth':[1,7], 'min_samples_split':[2,50], 'min_samples_leaf':[1,50]}\n",
    "search = GridSearchCV(dt, parameters, cv=5)\n",
    "search.fit(xtrain, ytrain)\n",
    "best_tree = search.best_estimator_\n",
    "feature_importances = best_tree.feature_importances_\n",
    "fidf = pd.DataFrame({'features':list(xtrain),\n",
    "                     'feature importance': feature_importances})\n",
    "sdf = fidf.sort_values('feature importance', ascending=False).head(20)\n",
    "sdf"
   ]
  },
  {
   "cell_type": "code",
   "execution_count": 924,
   "metadata": {},
   "outputs": [
    {
     "data": {
      "text/plain": [
       "<matplotlib.collections.PathCollection at 0x7fd7024f55e0>"
      ]
     },
     "execution_count": 924,
     "metadata": {},
     "output_type": "execute_result"
    },
    {
     "data": {
      "image/png": "[encoded data removed]",
      "text/plain": [
       "<Figure size 432x288 with 1 Axes>"
      ]
     },
     "metadata": {},
     "output_type": "display_data"
    }
   ],
   "source": [
    "plt.scatter(list(range(0, 20)), sdf['feature importance'])"
   ]
  },
  {
   "cell_type": "code",
   "execution_count": 914,
   "metadata": {},
   "outputs": [
    {
     "name": "stdout",
     "output_type": "stream",
     "text": [
      "tn fp fn tp \n",
      " 379 37 65 162\n"
     ]
    },
    {
     "data": {
      "text/plain": [
       "Text(0.5, 257.44, 'Predicted label')"
      ]
     },
     "execution_count": 914,
     "metadata": {},
     "output_type": "execute_result"
    },
    {
     "data": {
      "image/png": "[encoded data removed]",
      "text/plain": [
       "<Figure size 432x288 with 2 Axes>"
      ]
     },
     "metadata": {},
     "output_type": "display_data"
    }
   ],
   "source": [
    "y_pred = best_tree.predict(xtest)\n",
    "cm = confusion_matrix(ytest, y_pred)\n",
    "tn, fp, fn, tp = cm.ravel()\n",
    "print ('tn', 'fp', 'fn', 'tp', '\\n', tn, fp, fn, tp)\n",
    "\n",
    "class_names = ['promoters', 'non-promoters']\n",
    "fig, ax = plt.subplots()\n",
    "marks = np.arange(len(class_names))\n",
    "plt.xticks(marks, class_names)\n",
    "plt.yticks(marks, class_names)\n",
    "\n",
    "sns.heatmap(pd.DataFrame(cm), annot=True, cmap=\"YlGnBu\", fmt='g')\n",
    "ax.xaxis.set_label_position(\"top\")\n",
    "plt.tight_layout()\n",
    "plt.title('Confusion matrix')\n",
    "plt.ylabel('Actual label')\n",
    "plt.xlabel('Predicted label')"
   ]
  },
  {
   "cell_type": "code",
   "execution_count": 968,
   "metadata": {},
   "outputs": [
    {
     "name": "stdout",
     "output_type": "stream",
     "text": [
      "Recall :  0.7136563876651982\n",
      "Presision :  0.8140703517587939\n",
      "F1-score :  0.7605633802816901\n",
      "Accuracy :  0.8413685847589425\n"
     ]
    }
   ],
   "source": [
    "print(\"Recall : \", recall_score(ytest, y_pred))\n",
    "print(\"Presision : \", precision_score(ytest, y_pred))\n",
    "print(\"F1-score : \", f1_score(ytest, y_pred))\n",
    "print (\"Accuracy : \", accuracy_score(ytest, y_pred))"
   ]
  },
  {
   "cell_type": "code",
   "execution_count": 916,
   "metadata": {},
   "outputs": [
    {
     "data": {
      "text/plain": [
       "<matplotlib.legend.Legend at 0x7fd702dcb040>"
      ]
     },
     "execution_count": 916,
     "metadata": {},
     "output_type": "execute_result"
    },
    {
     "data": {
      "image/png": "[encoded data removed]",
      "text/plain": [
       "<Figure size 432x288 with 1 Axes>"
      ]
     },
     "metadata": {},
     "output_type": "display_data"
    }
   ],
   "source": [
    "fpr, tpr, thresholds = roc_curve(ytest, y_pred)\n",
    "roc_auc = auc(fpr, tpr)\n",
    "\n",
    "plt.plot(fpr, tpr, label='ROC curve (area = %0.3f)' % roc_auc)\n",
    "plt.plot([0, 1], [0, 1], 'k--')  \n",
    "plt.xlim([0.0, 1.0])\n",
    "plt.ylim([0.0, 1.0])\n",
    "plt.xlabel('False Positive Rate')\n",
    "plt.ylabel('True Positive Rate')\n",
    "plt.title('ROC-curve')\n",
    "plt.legend(loc=\"lower right\")"
   ]
  },
  {
   "cell_type": "code",
   "execution_count": 300,
   "metadata": {},
   "outputs": [],
   "source": [
    "import pandas as pd\n",
    "import numpy as np\n",
    "from sklearn.datasets import load_iris"
   ]
  },
  {
   "cell_type": "code",
   "execution_count": 564,
   "metadata": {},
   "outputs": [
    {
     "name": "stdout",
     "output_type": "stream",
     "text": [
      "Random starting synaptic weights\n",
      "[[ 6.19013761e+00]\n",
      " [-2.04244075e-03]\n",
      " [-6.19014470e+00]]\n",
      "Outputs after training\n",
      "[[0.00204953]\n",
      " [0.99795256]\n",
      " [0.99999291]\n",
      " [0.00204535]]\n"
     ]
    }
   ],
   "source": [
    "def sigmoid(x):\n",
    "    return 1 / (1 * np.exp(-x))\n",
    "\n",
    "\n",
    "def sigmoid_derivatives(x):\n",
    "    return x * (1 - x)\n",
    "        \n",
    "        \n",
    "training_inputs = np.array([[0, 0, 1],\n",
    "                            [1, 1, 1],\n",
    "                            [1, 0, 1],\n",
    "                            [0, 1, 1]])\n",
    "\n",
    "training_outputs = np.array([[0, 1, 1, 0]]).T\n",
    "\n",
    "print('Random starting synaptic weights')\n",
    "print(synaptic_weights)\n",
    "errors = []\n",
    "for inter in range(1):\n",
    "    input_layer = training_inputs\n",
    "\n",
    "    outputs = sigmoid(np.dot(input_layer, synaptic_weights))\n",
    "\n",
    "    error = training_outputs - outputs\n",
    "\n",
    "    adjustments = error * sigmoid_derivatives(outputs)\n",
    "\n",
    "    synaptic_weights += np.dot(input_layer.T, adjustments)\n",
    "    if inter % 100 == 0:\n",
    "        errors.append(error)\n",
    "\n",
    "print('Outputs after training')\n",
    "print(outputs)"
   ]
  },
  {
   "cell_type": "code",
   "execution_count": 751,
   "metadata": {},
   "outputs": [
    {
     "data": {
      "text/plain": [
       "array([1, 1, 1, 1, 1, 1, 1, 1, 1, 1, 1, 1, 1, 1, 1, 1, 1, 1, 1, 1])"
      ]
     },
     "execution_count": 751,
     "metadata": {},
     "output_type": "execute_result"
    }
   ],
   "source": [
    "xtrain = data.iloc[2:4,0:20].values\n",
    "ytrain = data.iloc[0:20,-1].values\n",
    "ytrain"
   ]
  },
  {
   "cell_type": "code",
   "execution_count": 720,
   "metadata": {},
   "outputs": [
    {
     "data": {
      "text/plain": [
       "array([[ 0.00000000e+00,  0.00000000e+00,  0.00000000e+00,\n",
       "         0.00000000e+00,  0.00000000e+00, -0.00000000e+00,\n",
       "        -0.00000000e+00,  0.00000000e+00,  0.00000000e+00,\n",
       "        -0.00000000e+00,  0.00000000e+00, -0.00000000e+00,\n",
       "         0.00000000e+00, -0.00000000e+00,  0.00000000e+00,\n",
       "         0.00000000e+00,  0.00000000e+00, -0.00000000e+00,\n",
       "        -0.00000000e+00,  0.00000000e+00,  0.00000000e+00,\n",
       "        -0.00000000e+00, -0.00000000e+00,  0.00000000e+00,\n",
       "        -0.00000000e+00, -0.00000000e+00,  0.00000000e+00,\n",
       "         0.00000000e+00,  0.00000000e+00, -0.00000000e+00],\n",
       "       [ 0.00000000e+00,  0.00000000e+00,  0.00000000e+00,\n",
       "         0.00000000e+00,  0.00000000e+00, -0.00000000e+00,\n",
       "        -0.00000000e+00,  0.00000000e+00,  0.00000000e+00,\n",
       "        -0.00000000e+00,  0.00000000e+00, -0.00000000e+00,\n",
       "         0.00000000e+00, -0.00000000e+00,  0.00000000e+00,\n",
       "         0.00000000e+00,  0.00000000e+00, -0.00000000e+00,\n",
       "        -0.00000000e+00,  0.00000000e+00,  0.00000000e+00,\n",
       "        -0.00000000e+00, -0.00000000e+00,  0.00000000e+00,\n",
       "        -0.00000000e+00, -0.00000000e+00,  0.00000000e+00,\n",
       "         0.00000000e+00,  0.00000000e+00, -0.00000000e+00],\n",
       "       [ 2.14340137e-03,  4.96569284e-04,  4.99301299e-04,\n",
       "         8.75947141e-04,  1.12563895e-03, -6.59560680e-04,\n",
       "        -2.14062131e-04,  4.51869919e-04,  6.89587020e-04,\n",
       "        -1.05407102e-03,  1.18155610e-03, -1.99503220e-04,\n",
       "         1.03848492e-04, -5.86311953e-04,  7.95478533e-04,\n",
       "         3.54950361e-05,  1.32042349e-04, -4.17813038e-04,\n",
       "        -5.56714589e-04,  4.04664704e-04,  5.07470248e-04,\n",
       "        -9.87816534e-04, -3.46074972e-04,  3.03272770e-04,\n",
       "        -2.64814851e-04, -9.51442165e-04,  8.94494168e-04,\n",
       "         1.02445974e-04,  4.43825744e-05, -1.79026901e-04]])"
      ]
     },
     "execution_count": 720,
     "metadata": {},
     "output_type": "execute_result"
    }
   ],
   "source": [
    "x = [0, 0, 1]\n",
    "y = [2.14340137e-03,  4.96569284e-04,  4.99301299e-04,  8.75947141e-04,\n",
    "     1.12563895e-03, -6.59560680e-04, -2.14062131e-04,  4.51869919e-04,\n",
    "     6.89587020e-04, -1.05407102e-03,  1.18155610e-03, -1.99503220e-04,\n",
    "     1.03848492e-04, -5.86311953e-04,  7.95478533e-04,  3.54950361e-05,\n",
    "     1.32042349e-04, -4.17813038e-04, -5.56714589e-04,  4.04664704e-04,\n",
    "     5.07470248e-04, -9.87816534e-04, -3.46074972e-04,  3.03272770e-04,\n",
    "     -2.64814851e-04, -9.51442165e-04,  8.94494168e-04,  1.02445974e-04,\n",
    "     4.43825744e-05, -1.79026901e-04]\n",
    "\n",
    "def multiplying(a, b):\n",
    "        c = []\n",
    "        for i in range(len(a)):\n",
    "            one = []\n",
    "            for j in range(len(b)):\n",
    "                one.append(a[i] * b[j])\n",
    "            c.append(one)\n",
    "        return np.array(c)\n",
    "    \n",
    "multiplying(x, y)"
   ]
  },
  {
   "cell_type": "code",
   "execution_count": 883,
   "metadata": {},
   "outputs": [
    {
     "name": "stdout",
     "output_type": "stream",
     "text": [
      "Loss: 0.9004714037528958\n",
      "Loss: 0.0005042409015893088\n",
      "Loss: 0.0002689758185162534\n",
      "Loss: 0.00018298317377795473\n",
      "Loss: 0.0001385198070737409\n",
      "Loss: 0.00011138280590426914\n",
      "Loss: 9.310729531447401e-05\n",
      "Loss: 7.996701648397045e-05\n",
      "Loss: 7.006675560293908e-05\n",
      "Loss: 6.234113114073203e-05\n",
      "Input: [[30. 11.  7. 12. 37.  0.  0.  0.  0.  0.  8.  4.  3.  4.  4.  2.  3.  4.\n",
      "   2.  2.]\n",
      " [33. 15.  7. 11. 47.  0.  0.  0.  0.  0.  6.  5.  3.  4.  5.  3.  3.  5.\n",
      "   3.  3.]\n",
      " [53. 20. 17. 16.  0.  0.  0.  0.  0.  0.  2.  1.  7.  2.  2.  4.  6.  4.\n",
      "   3.  7.]\n",
      " [38. 10. 13. 15.  0.  0.  0.  0.  0.  0.  4.  5.  4.  4.  4.  2.  4.  4.\n",
      "   5.  5.]]\n",
      "Actual Output: [[1.]\n",
      " [1.]\n",
      " [0.]\n",
      " [0.]]\n",
      "Loss: 5.6145404138136177e-05\n",
      "\n",
      "\n",
      "Predicted Output: [[0.99256897]\n",
      " [0.99256908]\n",
      " [0.00754638]\n",
      " [0.00756274]]\n"
     ]
    }
   ],
   "source": [
    "import numpy as np\n",
    "\n",
    "X = np.array(([30, 11, 7, 12, 37, 0, 0, 0, 0, 0, 8, 4, 3, 4, 4, 2, 3, 4, 2, 2], \n",
    "              [33, 15, 7, 11, 47, 0, 0, 0, 0, 0, 6, 5, 3, 4, 5, 3, 3, 5, 3, 3], \n",
    "              [53, 20, 17, 16, 0, 0, 0, 0, 0, 0, 2, 1, 7, 2, 2, 4, 6, 4, 3, 7], \n",
    "              [38, 10, 13, 15, 0, 0, 0, 0, 0, 0, 4, 5, 4, 4, 4, 2, 4, 4, 5, 5]), dtype=float)\n",
    "y = np.array(([1], [1], [0], [0]), dtype=float)\n",
    "\n",
    "#X = data.iloc[0:4,0:20].values\n",
    "#y = data.iloc[0:4,-1].values\n",
    "def implem(inputs):\n",
    "    out = []\n",
    "    for i in inputs:\n",
    "        out.append([i])\n",
    "    return np.array(out)\n",
    "\n",
    "#y = implem(y)\n",
    "#print(X)\n",
    "#print(y)\n",
    "\n",
    "\n",
    "class NeuralNetwork(object):\n",
    "    def __init__(self):\n",
    "        self.inputSize = 27\n",
    "        self.hiddenSize = 30\n",
    "        self.outputSize = 1\n",
    "  \n",
    "        self.W1 = np.random.randn(self.inputSize, self.hiddenSize)\n",
    "        self.W2 = np.random.randn(self.hiddenSize, self.outputSize) \n",
    "        \n",
    "    def feedForward(self, X):\n",
    "        self.z = np.dot(X, self.W1) \n",
    "        self.z2 = self.sigmoid(self.z) \n",
    "        self.z3 = np.dot(self.z2, self.W2) \n",
    "        output = self.sigmoid(self.z3)\n",
    "        return output\n",
    "    \n",
    "    def binary(self, s, deriv=False):\n",
    "        if deriv == True:\n",
    "            return\n",
    "        return 1 if s > \n",
    "        \n",
    "    def sigmoid(self, s, deriv=False):\n",
    "        if deriv == True:\n",
    "            return s * (1 - s)\n",
    "        return 1/(1 + np.exp(-s))\n",
    "    \n",
    "    def backward(self, X, y, output):\n",
    "        self.output_error = y - output \n",
    "        self.output_delta = self.output_error * self.sigmoid(output, deriv=True)\n",
    "        \n",
    "        self.z2_error = self.output_delta.dot(self.W2.T) \n",
    "        self.z2_delta = self.z2_error * self.sigmoid(self.z2, deriv=True) \n",
    "        \n",
    "        self.W1 += X.T.dot(self.z2_delta) \n",
    "        self.W2 += self.z2.T.dot(self.output_delta) \n",
    "        \n",
    "    def train(self, X, y):\n",
    "        output = self.feedForward(X)\n",
    "        self.backward(X, y, output)\n",
    "        \n",
    "NN = NeuralNetwork()\n",
    "\n",
    "for i in range(1000): \n",
    "    if (i % 100 == 0):\n",
    "        print(\"Loss: \" + str(np.mean(np.square(y - NN.feedForward(X)))))\n",
    "    NN.train(X, y)\n",
    "        \n",
    "print(\"Input: \" + str(X))\n",
    "print(\"Actual Output: \" + str(y))\n",
    "print(\"Loss: \" + str(np.mean(np.square(y - NN.feedForward(X)))))\n",
    "print(\"\\n\")\n",
    "print(\"Predicted Output: \" + str(NN.feedForward(X)))"
   ]
  },
  {
   "cell_type": "code",
   "execution_count": 758,
   "metadata": {},
   "outputs": [
    {
     "data": {
      "text/plain": [
       "array([[1],\n",
       "       [1],\n",
       "       [1],\n",
       "       [1]])"
      ]
     },
     "execution_count": 758,
     "metadata": {},
     "output_type": "execute_result"
    }
   ],
   "source": [
    "y = data.iloc[0:4,-1].values\n",
    "def implem(inputs):\n",
    "    out = []\n",
    "    for i in inputs:\n",
    "        out.append([i])\n",
    "    return np.array(out)\n",
    "implem(y)"
   ]
  },
  {
   "cell_type": "code",
   "execution_count": 772,
   "metadata": {},
   "outputs": [],
   "source": [
    "from scipy.cluster.hierarchy import linkage, dendrogram\n",
    "import matplotlib.pyplot as plt\n",
    "from sklearn.cluster import KMeans, AffinityPropagation, MeanShift, DBSCAN, AgglomerativeClustering, estimate_bandwidth\n",
    "import seaborn as sns; sns.set()\n",
    "import numpy as np\n",
    "from itertools import cycle\n",
    "import pandas as pd\n",
    "from sklearn.preprocessing import StandardScaler\n",
    "from sklearn.decomposition import PCA\n",
    "from sklearn import metrics"
   ]
  },
  {
   "cell_type": "code",
   "execution_count": 878,
   "metadata": {},
   "outputs": [
    {
     "data": {
      "text/html": [
       "<div>\n",
       "<style scoped>\n",
       "    .dataframe tbody tr th:only-of-type {\n",
       "        vertical-align: middle;\n",
       "    }\n",
       "\n",
       "    .dataframe tbody tr th {\n",
       "        vertical-align: top;\n",
       "    }\n",
       "\n",
       "    .dataframe thead th {\n",
       "        text-align: right;\n",
       "    }\n",
       "</style>\n",
       "<table border=\"1\" class=\"dataframe\">\n",
       "  <thead>\n",
       "    <tr style=\"text-align: right;\">\n",
       "      <th></th>\n",
       "      <th>principal_component_1</th>\n",
       "      <th>principal_component_2</th>\n",
       "    </tr>\n",
       "  </thead>\n",
       "  <tbody>\n",
       "    <tr>\n",
       "      <th>0</th>\n",
       "      <td>3.555400</td>\n",
       "      <td>-1.535376</td>\n",
       "    </tr>\n",
       "    <tr>\n",
       "      <th>1</th>\n",
       "      <td>3.429524</td>\n",
       "      <td>0.080049</td>\n",
       "    </tr>\n",
       "    <tr>\n",
       "      <th>2</th>\n",
       "      <td>3.155633</td>\n",
       "      <td>-1.106295</td>\n",
       "    </tr>\n",
       "    <tr>\n",
       "      <th>3</th>\n",
       "      <td>0.767616</td>\n",
       "      <td>-1.592605</td>\n",
       "    </tr>\n",
       "    <tr>\n",
       "      <th>4</th>\n",
       "      <td>0.675302</td>\n",
       "      <td>1.836491</td>\n",
       "    </tr>\n",
       "    <tr>\n",
       "      <th>...</th>\n",
       "      <td>...</td>\n",
       "      <td>...</td>\n",
       "    </tr>\n",
       "    <tr>\n",
       "      <th>66</th>\n",
       "      <td>-2.277123</td>\n",
       "      <td>-0.288553</td>\n",
       "    </tr>\n",
       "    <tr>\n",
       "      <th>67</th>\n",
       "      <td>-1.629873</td>\n",
       "      <td>-0.584574</td>\n",
       "    </tr>\n",
       "    <tr>\n",
       "      <th>68</th>\n",
       "      <td>-0.275441</td>\n",
       "      <td>-1.106775</td>\n",
       "    </tr>\n",
       "    <tr>\n",
       "      <th>69</th>\n",
       "      <td>0.092264</td>\n",
       "      <td>0.685351</td>\n",
       "    </tr>\n",
       "    <tr>\n",
       "      <th>70</th>\n",
       "      <td>0.401570</td>\n",
       "      <td>-0.269868</td>\n",
       "    </tr>\n",
       "  </tbody>\n",
       "</table>\n",
       "<p>71 rows × 2 columns</p>\n",
       "</div>"
      ],
      "text/plain": [
       "    principal_component_1  principal_component_2\n",
       "0                3.555400              -1.535376\n",
       "1                3.429524               0.080049\n",
       "2                3.155633              -1.106295\n",
       "3                0.767616              -1.592605\n",
       "4                0.675302               1.836491\n",
       "..                    ...                    ...\n",
       "66              -2.277123              -0.288553\n",
       "67              -1.629873              -0.584574\n",
       "68              -0.275441              -1.106775\n",
       "69               0.092264               0.685351\n",
       "70               0.401570              -0.269868\n",
       "\n",
       "[71 rows x 2 columns]"
      ]
     },
     "execution_count": 878,
     "metadata": {},
     "output_type": "execute_result"
    }
   ],
   "source": [
    "data_x = pd.read_csv('/home/nkureev/feauters_for_clusterization.txt', header=None)\n",
    "xtrain = data_x.iloc[0:71,0:20].values\n",
    "ytrain = data_x.iloc[0:71,-1].values\n",
    "\n",
    "# x = df.iloc[1:, 1:].values\n",
    "x = xtrain\n",
    "x = StandardScaler().fit_transform(x)\n",
    "\n",
    "pca = PCA(n_components=2)\n",
    "principalComponents = pca.fit_transform(x)\n",
    "principalDf = pd.DataFrame(data = principalComponents\n",
    "             , columns = ['principal_component_1', 'principal_component_2'])\n",
    "\n",
    "principalDf"
   ]
  },
  {
   "cell_type": "code",
   "execution_count": 871,
   "metadata": {},
   "outputs": [
    {
     "data": {
      "image/png": "[encoded data removed]",
      "text/plain": [
       "<Figure size 432x288 with 1 Axes>"
      ]
     },
     "metadata": {},
     "output_type": "display_data"
    }
   ],
   "source": [
    "### K-MEANS\n",
    "\n",
    "kmeans = KMeans(n_clusters = 2).fit(principalDf)\n",
    "y_kmeans = kmeans.predict(principalDf)\n",
    "plt.scatter(principalDf.principal_component_1, principalDf.principal_component_2, c=y_kmeans, cmap='viridis')\n",
    "\n",
    "centers = kmeans.cluster_centers_\n",
    "plt.scatter(centers[:, 0], centers[:, 1], c='red', s=200, alpha=0.5)\n",
    "\n",
    "for e, i in enumerate(ytrain):\n",
    "    plt.text(principalDf.principal_component_1[e], principalDf.principal_component_2[e], str(i), size=\"small\")"
   ]
  },
  {
   "cell_type": "code",
   "execution_count": 872,
   "metadata": {},
   "outputs": [
    {
     "name": "stdout",
     "output_type": "stream",
     "text": [
      "[1 1 1 1 1 1 1 1 1 1 1 1 1 0 0 1 1 1 1 1 1 1 1 1 1 1 1 1 1 1 1 1 1 1 1 1 1\n",
      " 1 1 1 1 0 0 0 0 1 1 0 0 0 0 0 1 0 0 1 0 0 1 1 0 1 0 0 0 0 1 0 0 0 0]\n",
      "[1 1 1 1 1 1 1 1 1 1 1 1 1 1 1 1 1 1 1 1 1 1 1 1 1 1 1 1 1 1 0 0 0 0 0 0 0\n",
      " 0 0 0 0 0 0 0 0 0 0 0 0 0 0 0 0 0 0 0 0 0 0 0 0 0 0 0 0 0 0 0 0 0 0]\n"
     ]
    }
   ],
   "source": [
    "y_kmeans_rev = y_kmeans[::-1]\n",
    "print(y_kmeans_rev)\n",
    "print(ytrain)"
   ]
  },
  {
   "cell_type": "code",
   "execution_count": 877,
   "metadata": {},
   "outputs": [
    {
     "data": {
      "text/plain": [
       "array([0, 0, 0, 0, 1, 0, 0, 0, 0, 1, 0, 1, 1, 0, 0, 1, 0, 0, 1, 0, 0, 0,\n",
       "       0, 0, 1, 1, 0, 0, 0, 0, 1, 1, 1, 1, 1, 1, 1, 1, 1, 1, 1, 1, 1, 1,\n",
       "       1, 1, 1, 1, 1, 1, 1, 1, 1, 1, 1, 1, 0, 0, 1, 1, 1, 1, 1, 1, 1, 1,\n",
       "       1, 1, 1, 1, 1], dtype=int32)"
      ]
     },
     "execution_count": 877,
     "metadata": {},
     "output_type": "execute_result"
    }
   ],
   "source": [
    "kmeans.labels_"
   ]
  },
  {
   "cell_type": "code",
   "execution_count": 875,
   "metadata": {},
   "outputs": [
    {
     "name": "stdout",
     "output_type": "stream",
     "text": [
      "tn fp fn tp \n",
      " 22 19 2 28\n"
     ]
    },
    {
     "data": {
      "text/plain": [
       "Text(0.5, 257.44, 'Predicted label')"
      ]
     },
     "execution_count": 875,
     "metadata": {},
     "output_type": "execute_result"
    },
    {
     "data": {
      "image/png": "[encoded data removed]",
      "text/plain": [
       "<Figure size 432x288 with 2 Axes>"
      ]
     },
     "metadata": {},
     "output_type": "display_data"
    }
   ],
   "source": [
    "cm = confusion_matrix(ytrain, y_kmeans_rev)\n",
    "tn, fp, fn, tp = cm.ravel()\n",
    "print ('tn', 'fp', 'fn', 'tp', '\\n', tn, fp, fn, tp)\n",
    "\n",
    "class_names = ['promoters', 'non-promoters']\n",
    "fig, ax = plt.subplots()\n",
    "marks = np.arange(len(class_names))\n",
    "plt.xticks(marks, class_names)\n",
    "plt.yticks(marks, class_names)\n",
    "\n",
    "sns.heatmap(pd.DataFrame(cm), annot=True, cmap=\"YlGnBu\", fmt='g')\n",
    "ax.xaxis.set_label_position(\"top\")\n",
    "plt.tight_layout()\n",
    "plt.title('Confusion matrix')\n",
    "plt.ylabel('Actual label')\n",
    "plt.xlabel('Predicted label')"
   ]
  },
  {
   "cell_type": "code",
   "execution_count": null,
   "metadata": {},
   "outputs": [],
   "source": [
    "print(\"Recall : \", recall_score(ytest, y_pred))\n",
    "print(\"Presision : \", precision_score(ytest, y_pred))\n",
    "print(\"F1-score : \", f1_score(ytest, y_pred))\n",
    "print (\"Accuracy : \", accuracy_score(ytest, y_pred))"
   ]
  },
  {
   "cell_type": "code",
   "execution_count": 896,
   "metadata": {},
   "outputs": [
    {
     "data": {
      "text/plain": [
       "array([[30, 11,  7, ...,  0,  0,  1],\n",
       "       [33, 15,  7, ...,  0,  0,  1],\n",
       "       [30,  9,  7, ...,  1,  1,  1],\n",
       "       [36, 14, 12, ...,  0,  0,  1]])"
      ]
     },
     "execution_count": 896,
     "metadata": {},
     "output_type": "execute_result"
    }
   ],
   "source": [
    "#df1 = pd.DataFrame({'x': [1, 2, 3], 'y': ['a', 'b', 'c']})\n",
    "#df2 = pd.DataFrame({'x': [4, 5, 6], 'y': ['b', 'c', 'd']})\n",
    "#df = df1.merge(df2, how='outer')\n",
    "X = data.iloc[0:4,:].values\n",
    "y = data.iloc[0:4,-1].values\n",
    "X"
   ]
  },
  {
   "cell_type": "code",
   "execution_count": 961,
   "metadata": {},
   "outputs": [],
   "source": [
    "import numpy as np\n",
    "\n",
    "np.random.seed(100)\n",
    "\n",
    "\n",
    "class Layer:\n",
    "    \"\"\"\n",
    "\n",
    "    Represents a layer (hidden or output) in our neural network.\n",
    "\n",
    "    \"\"\"\n",
    "\n",
    "    def __init__(self, n_input, n_neurons, activation=None, weights=None, bias=None):\n",
    "        \"\"\"\n",
    "\n",
    "        :param int n_input: The input size (coming from the input layer or a previous hidden layer)\n",
    "\n",
    "        :param int n_neurons: The number of neurons in this layer.\n",
    "\n",
    "        :param str activation: The activation function to use (if any).\n",
    "\n",
    "        :param weights: The layer's weights.\n",
    "\n",
    "        :param bias: The layer's bias.\n",
    "\n",
    "        \"\"\"\n",
    "\n",
    "        self.weights = weights if weights is not None else np.random.rand(n_input, n_neurons)\n",
    "        self.activation = activation\n",
    "        self.bias = bias if bias is not None else np.random.rand(n_neurons)\n",
    "        self.last_activation = None\n",
    "        self.error = None\n",
    "        self.delta = None\n",
    "\n",
    "    def activate(self, x):\n",
    "        \"\"\"\n",
    "\n",
    "        Calculates the dot product of this layer.\n",
    "\n",
    "        :param x: The input.\n",
    "\n",
    "        :return: The result.\n",
    "\n",
    "        \"\"\"\n",
    "\n",
    "        r = np.dot(x, self.weights) + self.bias\n",
    "        self.last_activation = self._apply_activation(r)\n",
    "        return self.last_activation\n",
    "\n",
    "    def _apply_activation(self, r):\n",
    "        \"\"\"\n",
    "\n",
    "        Applies the chosen activation function (if any).\n",
    "\n",
    "        :param r: The normal value.\n",
    "\n",
    "        :return: The \"activated\" value.\n",
    "\n",
    "        \"\"\"\n",
    "\n",
    "        # In case no activation function was chosen\n",
    "\n",
    "        if self.activation is None:\n",
    "            return r\n",
    "\n",
    "        # tanh\n",
    "\n",
    "        if self.activation == 'tanh':\n",
    "            return np.tanh(r)\n",
    "\n",
    "        # sigmoid\n",
    "\n",
    "        if self.activation == 'sigmoid':\n",
    "            return 1 / (1 + np.exp(-r))\n",
    "        \n",
    "        \n",
    "        if self.activation == 'binary':\n",
    "            return np.where(r > 0.5, 1, 0)\n",
    "\n",
    "        return r\n",
    "\n",
    "    def apply_activation_derivative(self, r):\n",
    "        \"\"\"\n",
    "\n",
    "        Applies the derivative of the activation function (if any).\n",
    "\n",
    "        :param r: The normal value.\n",
    "\n",
    "        :return: The \"derived\" value.\n",
    "\n",
    "        \"\"\"\n",
    "\n",
    "        # We use 'r' directly here because its already activated, the only values that\n",
    "\n",
    "        # are used in this function are the last activations that were saved.\n",
    "\n",
    "\n",
    "        if self.activation is None:\n",
    "            return r\n",
    "\n",
    "        if self.activation == 'tanh':\n",
    "            return 1 - r ** 2\n",
    "\n",
    "        if self.activation == 'sigmoid':\n",
    "            return r * (1 - r)\n",
    "        \n",
    "        if self.activation == 'binary':\n",
    "            return r\n",
    "\n",
    "        return r\n",
    "\n",
    "\n",
    "class NeuralNetwork:\n",
    "    \"\"\"\n",
    "\n",
    "    Represents a neural network.\n",
    "\n",
    "    \"\"\"\n",
    "\n",
    "    def __init__(self):\n",
    "        self._layers = []\n",
    "\n",
    "    def add_layer(self, layer):\n",
    "        \"\"\"\n",
    "\n",
    "        Adds a layer to the neural network.\n",
    "\n",
    "        :param Layer layer: The layer to add.\n",
    "\n",
    "        \"\"\"\n",
    "\n",
    "        self._layers.append(layer)\n",
    "\n",
    "    def feed_forward(self, X):\n",
    "        \"\"\"\n",
    "\n",
    "        Feed forward the input through the layers.\n",
    "\n",
    "        :param X: The input values.\n",
    "\n",
    "        :return: The result.\n",
    "\n",
    "        \"\"\"\n",
    "\n",
    "        for layer in self._layers:\n",
    "            X = layer.activate(X)\n",
    "\n",
    "        return X\n",
    "\n",
    "    def predict(self, X):\n",
    "        \"\"\"\n",
    "\n",
    "        Predicts a class (or classes).\n",
    "\n",
    "        :param X: The input values.\n",
    "\n",
    "        :return: The predictions.\n",
    "\n",
    "        \"\"\"\n",
    "\n",
    "        ff = self.feed_forward(X)\n",
    "\n",
    "        # One row\n",
    "\n",
    "        if ff.ndim == 1:\n",
    "            return np.argmax(ff)\n",
    "\n",
    "        # Multiple rows\n",
    "\n",
    "        return np.argmax(ff, axis=1)\n",
    "\n",
    "    def backpropagation(self, X, y, learning_rate):\n",
    "        \"\"\"\n",
    "\n",
    "        Performs the backward propagation algorithm and updates the layers weights.\n",
    "\n",
    "        :param X: The input values.\n",
    "\n",
    "        :param y: The target values.\n",
    "\n",
    "        :param float learning_rate: The learning rate (between 0 and 1).\n",
    "\n",
    "        \"\"\"\n",
    "\n",
    "        # Feed forward for the output\n",
    "\n",
    "        output = self.feed_forward(X)\n",
    "\n",
    "        # Loop over the layers backward\n",
    "\n",
    "        for i in reversed(range(len(self._layers))):\n",
    "            layer = self._layers[i]\n",
    "\n",
    "            # If this is the output layer\n",
    "\n",
    "            if layer == self._layers[-1]:\n",
    "                layer.error = y - output\n",
    "                # The output = layer.last_activation in this case\n",
    "\n",
    "                layer.delta = layer.error * layer.apply_activation_derivative(output)\n",
    "            else:\n",
    "                next_layer = self._layers[i + 1]\n",
    "                layer.error = np.dot(next_layer.weights, next_layer.delta)\n",
    "                layer.delta = layer.error * layer.apply_activation_derivative(layer.last_activation)\n",
    "\n",
    "        # Update the weights\n",
    "\n",
    "        for i in range(len(self._layers)):\n",
    "            layer = self._layers[i]\n",
    "            # The input is either the previous layers output or X itself (for the first hidden layer)\n",
    "\n",
    "            input_to_use = np.atleast_2d(X if i == 0 else self._layers[i - 1].last_activation)\n",
    "            layer.weights += layer.delta * input_to_use.T * learning_rate\n",
    "\n",
    "    def train(self, X, y, learning_rate, max_epochs):\n",
    "        \"\"\"\n",
    "\n",
    "        Trains the neural network using backpropagation.\n",
    "\n",
    "        :param X: The input values.\n",
    "\n",
    "        :param y: The target values.\n",
    "\n",
    "        :param float learning_rate: The learning rate (between 0 and 1).\n",
    "\n",
    "        :param int max_epochs: The maximum number of epochs (cycles).\n",
    "\n",
    "        :return: The list of calculated MSE errors.\n",
    "\n",
    "        \"\"\"\n",
    "\n",
    "        mses = []\n",
    "\n",
    "        for i in range(max_epochs):\n",
    "            for j in range(len(X)):\n",
    "                self.backpropagation(X[j], y[j], learning_rate)\n",
    "            if i % 10 == 0:\n",
    "                mse = np.mean(np.square(y - nn.feed_forward(X)))\n",
    "                mses.append(mse)\n",
    "                print('Epoch: #%s, MSE: %f' % (i, float(mse)))\n",
    "\n",
    "        return mses\n",
    "\n",
    "    @staticmethod\n",
    "    def accuracy(y_pred, y_true):\n",
    "        \"\"\"\n",
    "\n",
    "        Calculates the accuracy between the predicted labels and true labels.\n",
    "\n",
    "        :param y_pred: The predicted labels.\n",
    "\n",
    "        :param y_true: The true labels.\n",
    "\n",
    "        :return: The calculated accuracy.\n",
    "\n",
    "        \"\"\"\n",
    "\n",
    "        return (y_pred == y_true).mean()"
   ]
  },
  {
   "cell_type": "code",
   "execution_count": 938,
   "metadata": {},
   "outputs": [],
   "source": [
    "data = pd.read_csv('/home/nkureev/Features.csv', header=None)\n",
    "X = data.iloc[:,:-1].values\n",
    "y = data.iloc[:,-1].values\n",
    "def implem(inputs):\n",
    "    out = []\n",
    "    for i in inputs:\n",
    "        out.append([i])\n",
    "    return np.array(out)\n",
    "\n",
    "y = implem(y)"
   ]
  },
  {
   "cell_type": "code",
   "execution_count": 966,
   "metadata": {},
   "outputs": [
    {
     "name": "stdout",
     "output_type": "stream",
     "text": [
      "Epoch: #0, MSE: 0.327394\n",
      "Epoch: #10, MSE: 0.327382\n",
      "Epoch: #20, MSE: 0.327303\n",
      "Epoch: #30, MSE: 0.327179\n",
      "Epoch: #40, MSE: 0.326984\n",
      "Epoch: #50, MSE: 0.326681\n",
      "Epoch: #60, MSE: 0.326221\n",
      "Epoch: #70, MSE: 0.325594\n",
      "Epoch: #80, MSE: 0.324862\n",
      "Epoch: #90, MSE: 0.324125\n",
      "Epoch: #100, MSE: 0.323465\n",
      "Epoch: #110, MSE: 0.322919\n",
      "Epoch: #120, MSE: 0.322487\n",
      "Epoch: #130, MSE: 0.322151\n",
      "Epoch: #140, MSE: 0.321890\n",
      "Epoch: #150, MSE: 0.321686\n",
      "Epoch: #160, MSE: 0.321526\n",
      "Epoch: #170, MSE: 0.321398\n",
      "Epoch: #180, MSE: 0.321294\n",
      "Epoch: #190, MSE: 0.321209\n",
      "Epoch: #200, MSE: 0.321139\n",
      "Epoch: #210, MSE: 0.321080\n",
      "Epoch: #220, MSE: 0.321031\n",
      "Epoch: #230, MSE: 0.320989\n",
      "Epoch: #240, MSE: 0.320953\n",
      "Epoch: #250, MSE: 0.320922\n",
      "Epoch: #260, MSE: 0.320895\n",
      "Epoch: #270, MSE: 0.320872\n",
      "Epoch: #280, MSE: 0.320851\n",
      "Epoch: #290, MSE: 0.320833\n",
      "Accuracy: 65.39%\n"
     ]
    },
    {
     "data": {
      "image/png": "[encoded data removed]",
      "text/plain": [
       "<Figure size 432x288 with 1 Axes>"
      ]
     },
     "metadata": {},
     "output_type": "display_data"
    }
   ],
   "source": [
    "nn = NeuralNetwork()\n",
    "nn.add_layer(Layer(27, 1, 'tanh'))\n",
    "nn.add_layer(Layer(1, 2, 'sigmoid'))\n",
    "nn.add_layer(Layer(2, 3, 'sigmoid'))\n",
    "\n",
    "# Define dataset\n",
    "\n",
    "# X = np.array([[0, 0], [0, 1], [1, 0], [1, 1]])\n",
    "# y = np.array([[0], [0], [0], [1]])\n",
    "\n",
    "# Train the neural network\n",
    "\n",
    "errors = nn.train(X, y, 0.3, 300)\n",
    "res = nn.predict(X)\n",
    "print('Accuracy: %.2f%%' % (nn.accuracy(res, y.flatten()) * 100))\n",
    "\n",
    "# Plot changes in mse\n",
    "\n",
    "plt.plot(errors)\n",
    "plt.title('Changes in MSE')\n",
    "plt.xlabel('Epoch (every 10th)')\n",
    "plt.ylabel('MSE')\n",
    "plt.show()"
   ]
  },
  {
   "cell_type": "code",
   "execution_count": 967,
   "metadata": {},
   "outputs": [
    {
     "name": "stdout",
     "output_type": "stream",
     "text": [
      "tn fp fn tp \n",
      " 1400 741 0 0\n"
     ]
    },
    {
     "data": {
      "text/plain": [
       "Text(0.5, 257.44, 'Predicted label')"
      ]
     },
     "execution_count": 967,
     "metadata": {},
     "output_type": "execute_result"
    },
    {
     "data": {
      "image/png": "[encoded data removed]",
      "text/plain": [
       "<Figure size 432x288 with 2 Axes>"
      ]
     },
     "metadata": {},
     "output_type": "display_data"
    }
   ],
   "source": [
    "cm = confusion_matrix(res, y.flatten())\n",
    "tn, fp, fn, tp = cm.ravel()\n",
    "print ('tn', 'fp', 'fn', 'tp', '\\n', tn, fp, fn, tp)\n",
    "\n",
    "class_names = ['promoters', 'non-promoters']\n",
    "fig, ax = plt.subplots()\n",
    "marks = np.arange(len(class_names))\n",
    "plt.xticks(marks, class_names)\n",
    "plt.yticks(marks, class_names)\n",
    "\n",
    "sns.heatmap(pd.DataFrame(cm), annot=True, cmap=\"YlGnBu\", fmt='g')\n",
    "ax.xaxis.set_label_position(\"top\")\n",
    "plt.tight_layout()\n",
    "plt.title('Confusion matrix')\n",
    "plt.ylabel('Actual label')\n",
    "plt.xlabel('Predicted label')"
   ]
  },
  {
   "cell_type": "code",
   "execution_count": 1232,
   "metadata": {},
   "outputs": [
    {
     "name": "stdout",
     "output_type": "stream",
     "text": [
      "[[0.6485677467015812], [0.20966342793690096]]\n",
      "[[0.1503229962668694, 0.5255393530109397], [0.09659221629207138, 0.27807213466313285], [0.6220070750199936, 0.32846747864695935]]\n",
      "[[0.9629718107790034, 0.42257797624850235, 0.3992161472933671]]\n",
      "The history saving thread hit an unexpected error (OperationalError('database or disk is full')).History will not be written to the database.\n"
     ]
    }
   ],
   "source": [
    "class Layer():\n",
    "    \n",
    "    def __init__(self, number_of_inputs, number_of_outputs):\n",
    "        self.number_of_inputs = number_of_inputs\n",
    "        self.number_of_outputs = number_of_outputs\n",
    "        \n",
    "        self.weights = []\n",
    "        for i in range(self.number_of_outputs):\n",
    "            neuron = []\n",
    "            for j in range(self.number_of_inputs):\n",
    "                weight = np.random.random()\n",
    "                neuron.append(weight) \n",
    "            self.weights.append(neuron)\n",
    "    \n",
    "    \n",
    "    def get_neurons(self):\n",
    "        return self.weights\n",
    "    \n",
    "\n",
    "def sigmoid(s, deriv=False):\n",
    "        if deriv == True:\n",
    "            return s * (1 - s)\n",
    "        return 1/(1 + np.exp(-s))\n",
    "    \n",
    "    \n",
    "class NeuralNetwork():\n",
    "    \n",
    "    def __init__(self, layers_info):\n",
    "        \n",
    "        # layers info - list of numbers of neurons in each layer\n",
    "        \n",
    "        self.layers_info = layers_info\n",
    "        \n",
    "        self.layers_list = []\n",
    "        for i in range(len(self.layers_info) - 1):\n",
    "            self.layers_list.append(Layer(self.layers_info[i], self.layers_info[i + 1]))\n",
    "            \n",
    "            \n",
    "    def get_layers(self):\n",
    "        return self.layers_list\n",
    "    \n",
    "    \n",
    "    def feedforward(self, inputs):\n",
    "        input_layer = True\n",
    "        data = inputs\n",
    "        for layer in self.layers_list:\n",
    "            print(layer.weights)\n",
    "               \n",
    "                \n",
    "    \n",
    "NN = NeuralNetwork([1, 2, 3, 1])\n",
    "NN.feedforward([[2, 3]])"
   ]
  },
  {
   "cell_type": "code",
   "execution_count": 1231,
   "metadata": {},
   "outputs": [
    {
     "data": {
      "text/plain": [
       "[array([1]), array([4])]"
      ]
     },
     "execution_count": 1231,
     "metadata": {},
     "output_type": "execute_result"
    }
   ],
   "source": [
    "a = [[1, 2]]\n",
    "b = [[1], [2]]\n",
    "\n",
    "def multiplier(inputs, weights):\n",
    "    result = []\n",
    "    for neurons in weights:\n",
    "        result.append(np.dot(inputs, neurons))\n",
    "    return result\n",
    "\n",
    "multiplier(a, b)"
   ]
  },
  {
   "cell_type": "code",
   "execution_count": null,
   "metadata": {},
   "outputs": [],
   "source": []
  }
 ],
 "metadata": {
  "kernelspec": {
   "display_name": "Python 3",
   "language": "python",
   "name": "python3"
  },
  "language_info": {
   "codemirror_mode": {
    "name": "ipython",
    "version": 3
   },
   "file_extension": ".py",
   "mimetype": "text/x-python",
   "name": "python",
   "nbconvert_exporter": "python",
   "pygments_lexer": "ipython3",
   "version": "3.8.3"
  }
 },
 "nbformat": 4,
 "nbformat_minor": 4
}
